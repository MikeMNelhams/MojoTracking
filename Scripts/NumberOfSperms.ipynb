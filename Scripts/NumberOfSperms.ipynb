{
 "cells": [
  {
   "cell_type": "code",
   "execution_count": 11,
   "metadata": {},
   "outputs": [
    {
     "data": {
      "text/plain": [
       "7"
      ]
     },
     "execution_count": 11,
     "metadata": {},
     "output_type": "execute_result"
    }
   ],
   "source": [
    "import json\n",
    "import matplotlib.pyplot as plt\n",
    "from mpl_toolkits.mplot3d import axes3d\n",
    "with open(r\"C:\\Users\\richa\\Desktop\\Univecity projects\\MDM3 B\\mojo_sperm_tracking_data_bristol\\tp49\\cover0_0_YOLO_NO_TRACKING_output\\centroids_with_meta.json\", \"r\") as read_file:\n",
    "    data = json.load(read_file)\n",
    "    \n",
    "max([5,7])"
   ]
  },
  {
   "cell_type": "code",
   "execution_count": 10,
   "metadata": {},
   "outputs": [
    {
     "name": "stdout",
     "output_type": "stream",
     "text": [
      "min(Num_Sperms) 9\n",
      "max(Num_Sperms) 14\n",
      "min(Num_New_Sperms) -2\n",
      "max(Num_New_Sperms) 3\n"
     ]
    }
   ],
   "source": [
    "# Detects when there is a different sprem number between frames\n",
    "Num_Sperms = []\n",
    "Num_New_Sperms = []\n",
    "for i in range(0,len(data[\"centroids\"])): # number of frames\n",
    "    if abs(len(data[\"centroids\"][i]) - len(data[\"centroids\"][i-1])) >= 1: # If the number of sperm is different of the prevoius frame.\n",
    "        # print(\"Frame:\", i)\n",
    "        # print(\"Number of new Sperms:\",len(data[\"centroids\"][i]) - len(data[\"centroids\"][i-1]))\n",
    "        # print(\"Sperm number:\", len(data[\"centroids\"][i]), \"\\n\")\n",
    "        Num_Sperms.append(len(data[\"centroids\"][i]))\n",
    "        Num_New_Sperms.append(len(data[\"centroids\"][i]) - len(data[\"centroids\"][i-1]))\n",
    "\n",
    "print('min(Num_Sperms)', min(Num_Sperms))\n",
    "print('max(Num_Sperms)', max(Num_Sperms))\n",
    "print('min(Num_New_Sperms)', min(Num_New_Sperms))\n",
    "print('max(Num_New_Sperms)', max(Num_New_Sperms))"
   ]
  },
  {
   "cell_type": "code",
   "execution_count": 5,
   "metadata": {},
   "outputs": [
    {
     "name": "stdout",
     "output_type": "stream",
     "text": [
      "Frame: 0\n",
      "Number of new Sperms: -2\n",
      "Sperm number: 10 \n",
      "\n",
      "Frame: 6\n",
      "Number of new Sperms: 2\n",
      "Sperm number: 11 \n",
      "\n",
      "Frame: 73\n",
      "Number of new Sperms: -2\n",
      "Sperm number: 9 \n",
      "\n",
      "Frame: 89\n",
      "Number of new Sperms: 2\n",
      "Sperm number: 12 \n",
      "\n",
      "Frame: 93\n",
      "Number of new Sperms: -2\n",
      "Sperm number: 10 \n",
      "\n",
      "Frame: 97\n",
      "Number of new Sperms: 2\n",
      "Sperm number: 11 \n",
      "\n",
      "Frame: 139\n",
      "Number of new Sperms: 3\n",
      "Sperm number: 13 \n",
      "\n",
      "Frame: 140\n",
      "Number of new Sperms: -2\n",
      "Sperm number: 11 \n",
      "\n",
      "Frame: 144\n",
      "Number of new Sperms: -2\n",
      "Sperm number: 10 \n",
      "\n",
      "Frame: 176\n",
      "Number of new Sperms: 2\n",
      "Sperm number: 13 \n",
      "\n",
      "Frame: 180\n",
      "Number of new Sperms: 2\n",
      "Sperm number: 13 \n",
      "\n",
      "Frame: 211\n",
      "Number of new Sperms: 2\n",
      "Sperm number: 12 \n",
      "\n",
      "Frame: 222\n",
      "Number of new Sperms: 2\n",
      "Sperm number: 14 \n",
      "\n",
      "Frame: 231\n",
      "Number of new Sperms: 2\n",
      "Sperm number: 14 \n",
      "\n",
      "Frame: 261\n",
      "Number of new Sperms: 2\n",
      "Sperm number: 13 \n",
      "\n",
      "Frame: 276\n",
      "Number of new Sperms: 2\n",
      "Sperm number: 13 \n",
      "\n"
     ]
    }
   ],
   "source": [
    "# Detects when the diferent number of sperms is bigger than or equal to two (the number of sperms increased or decrease by >=2 in just one frame)\n",
    "for i in range(0,len(data[\"centroids\"])): # number of frames\n",
    "    if abs(len(data[\"centroids\"][i]) - len(data[\"centroids\"][i-1])) >= 2: # If the number of sperm is different of the prevoius frame.\n",
    "        print(\"Frame:\", i)\n",
    "        print(\"Number of new Sperms:\",len(data[\"centroids\"][i]) - len(data[\"centroids\"][i-1]))\n",
    "        print(\"Sperm number:\", len(data[\"centroids\"][i]), \"\\n\")"
   ]
  }
 ],
 "metadata": {
  "kernelspec": {
   "display_name": "Python 3",
   "language": "python",
   "name": "python3"
  },
  "language_info": {
   "codemirror_mode": {
    "name": "ipython",
    "version": 3
   },
   "file_extension": ".py",
   "mimetype": "text/x-python",
   "name": "python",
   "nbconvert_exporter": "python",
   "pygments_lexer": "ipython3",
   "version": "3.7.4"
  }
 },
 "nbformat": 4,
 "nbformat_minor": 2
}
