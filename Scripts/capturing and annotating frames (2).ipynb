{
 "cells": [
  {
   "cell_type": "code",
   "execution_count": 509,
   "metadata": {},
   "outputs": [],
   "source": [
    "\"\"\"\n",
    "@author: Pablo\n",
    "\"\"\"\n",
    "import json\n",
    "import matplotlib.pyplot as plt\n",
    "import pandas\n",
    "import ffmpeg\n",
    "import skimage\n",
    "import numpy as np\n",
    "import os\n",
    "import cv2\n",
    "import glob\n",
    "\n",
    "# change location of writing and reading directory to write and read files and videos\n",
    "path = \"D:\\\\Uni work\\\\Engineering Mathematics Work\\\\MDM3\\Mojo\\\\mojo_sperm_tracking_data_bristol\\\\tp49\\\\\"\n",
    "os.chdir(path)"
   ]
  },
  {
   "cell_type": "code",
   "execution_count": 510,
   "metadata": {},
   "outputs": [],
   "source": [
    "# open video based on the cover title and save the json file as data\n",
    "with open(r\"D:\\Uni work\\Engineering Mathematics Work\\MDM3\\Mojo\\mojo_sperm_tracking_data_bristol\\tp49\\cover0_3_YOLO_NO_TRACKING_output\\centroids_with_meta.json\", \"r\") as read_file:\n",
    "    data = json.load(read_file)"
   ]
  },
  {
   "cell_type": "code",
   "execution_count": 527,
   "metadata": {},
   "outputs": [],
   "source": [
    "# print data with indentation for readability \n",
    "#print(json.dumps(data, sort_keys=True, indent =2))"
   ]
  },
  {
   "cell_type": "code",
   "execution_count": 512,
   "metadata": {},
   "outputs": [],
   "source": [
    "#check to see if there is any non sperm classes in the video\n",
    "for li in data['centroids']:\n",
    "    for obj in li:\n",
    "        if obj['class'] != 1:\n",
    "            print(obj['class'])"
   ]
  },
  {
   "cell_type": "code",
   "execution_count": 521,
   "metadata": {},
   "outputs": [],
   "source": [
    "vid = \"cover0_3.avi\"\n",
    "path = \"D:\\\\Uni work\\\\Engineering Mathematics Work\\\\MDM3\\Mojo\\\\mojo_sperm_tracking_data_bristol\\\\tp49\\\\\"\n",
    "\n",
    "\n",
    "def playvid(path=path, vid=vid):\n",
    "    vidcap =cv2.VideoCapture(path+vid)\n",
    "    framerate = vidcap.get(5)\n",
    "    framecount = vidcap.get(7)\n",
    "#     print(framerate, framecount)\n",
    "    while True:\n",
    "        success, frame = vidcap.read()\n",
    "        if success:\n",
    "        \n",
    "            gray = cv2.cvtColor(frame, cv2.COLOR_BGR2GRAY)\n",
    "            cv2.imshow('frame',gray)\n",
    "            cv2.waitKey(1)\n",
    "        else:\n",
    "            break\n",
    "\n",
    "    vidcap.release()\n",
    "    cv2.destroyAllWindows()\n",
    "\n",
    "    \n",
    "\n",
    "\n",
    "def framesplit(path=path, vid=vid):\n",
    "    os.chdir(path)\n",
    "    vidcap =cv2.VideoCapture(path+vid)\n",
    "    framerate = vidcap.get(5)\n",
    "    framecount = vidcap.get(7)\n",
    "    print(framerate, framecount)\n",
    "    count = 0\n",
    "    success, frame = vidcap.read()\n",
    "    print(success)\n",
    "    while success: \n",
    "        cv2.imwrite(\"frame%s.jpg\" % str(count).zfill(3), frame)     # save frame as JPEG file      \n",
    "        success,frame = vidcap.read()\n",
    "        #print('Read a new frame: ', success)\n",
    "        count += 1\n",
    "    vidcap.release()\n",
    "    \n",
    " \n",
    " framesplit()\n"
   ]
  },
  {
   "cell_type": "code",
   "execution_count": 522,
   "metadata": {},
   "outputs": [],
   "source": [
    "#loop through all sperms to find their bounding box and center points for plotting\n",
    "def getbboxes():\n",
    "    frame_bboxes=[]\n",
    "    frame_centroids= []\n",
    "    frame_ids = []\n",
    "    for li in data['centroids']: \n",
    "        bboxes = []\n",
    "        centers = []\n",
    "        ids = [] \n",
    "        for obj in li:\n",
    "            bboxes.append(obj['bbox'])\n",
    "            centers.append(obj['center'])\n",
    "            ids.append(obj['id'])\n",
    "        frame_bboxes.append(bboxes)\n",
    "        frame_centroids.append(centers)\n",
    "        frame_ids.append(ids)\n",
    "    return frame_bboxes, frame_centroids, frame_ids\n",
    "\n"
   ]
  },
  {
   "cell_type": "code",
   "execution_count": 515,
   "metadata": {
    "scrolled": true
   },
   "outputs": [],
   "source": [
    "bboxes, centroids, ids = getbboxes()\n",
    "def annotateframe(frame=0, showframe=False, saveimage=True, bboxes=bboxes, centroids=centroids, ids=ids):\n",
    "    frame=frame\n",
    "    resizefactor = 2\n",
    "    img = cv2.imread('frame{}.jpg'.format(str(frame).zfill(3)))\n",
    "    # imgray = cv2.cvtColor(imgresized,cv2.COLOR_BGR2GRAY)\n",
    "    \n",
    "    for box in bboxes[frame]:\n",
    "        #define bounding box coordinates\n",
    "        x_min, y_min, w, h = resizefactor*int(box[0]),resizefactor*int(box[1]),resizefactor*int(box[2]),resizefactor*int(box[3])\n",
    "        #print(x_min, y_min, w, h)\n",
    "        startpoint = (x_min, y_min)\n",
    "        endpoint =  (x_min+w, y_min+h)\n",
    "        # draw a green rectangle to visualize the bounding rect\n",
    "        img=cv2.rectangle(img,startpoint,endpoint, (0, 255, 0), 2)\n",
    "        \n",
    "    for count, centroid in enumerate(centroids[frame]):\n",
    "        x, y = resizefactor* int(centroid[0]), resizefactor* int(centroid[1])\n",
    "        # draw a point at each sperm\n",
    "        img = cv2.circle(img, (x,y), radius=3, color=(0, 0, 255), thickness=-1)\n",
    "        \n",
    "        # label each sperm\n",
    "        img =cv2.putText(img, \"#{}\".format(ids[frame][count]), (x, y-20), cv2.FONT_HERSHEY_SIMPLEX, 0.8, (0,0,0), 2)\n",
    "    #display frame in a pop up\n",
    "    if showframe == True:\n",
    "        cv2.imshow('output',img)\n",
    "        cv2.waitKey(0)\n",
    "        cv2.destroyAllWindows()\n",
    "\n",
    "#     #save annotated image\n",
    "    if saveimage is True:\n",
    "        cv2.imwrite(\"frame{}.jpg\".format(str(frame).zfill(3)),img)  \n"
   ]
  },
  {
   "cell_type": "code",
   "execution_count": 516,
   "metadata": {},
   "outputs": [],
   "source": [
    "# annotate all frames in a video, note that some videos have one or two frames less \n",
    "for i in range(0,301):\n",
    "    annotateframe(frame=i, showframe=False)"
   ]
  },
  {
   "cell_type": "code",
   "execution_count": 525,
   "metadata": {},
   "outputs": [],
   "source": [
    "def makevideo(vid=vid):\n",
    "    img_array = []\n",
    "    for filename in glob.glob(r'D:\\Uni work\\Engineering Mathematics Work\\MDM3\\Mojo\\mojo_sperm_tracking_data_bristol\\tp49\\*.jpg'):\n",
    "        img = cv2.imread(filename)\n",
    "        height, width, layers = img.shape\n",
    "        size = (width,height)\n",
    "        img_array.append(img)\n",
    "   \n",
    "    out = cv2.VideoWriter('annotated{}.avi'.format(vid),cv2.VideoWriter_fourcc(*'DIVX'), 60, size)\n",
    "\n",
    "    for i in range(len(img_array)):\n",
    "        out.write(img_array[i])\n",
    "    out.release()"
   ]
  },
  {
   "cell_type": "code",
   "execution_count": 526,
   "metadata": {},
   "outputs": [],
   "source": [
    "makevideo(vid=vid)"
   ]
  },
  {
   "cell_type": "code",
   "execution_count": null,
   "metadata": {},
   "outputs": [],
   "source": []
  },
  {
   "cell_type": "code",
   "execution_count": null,
   "metadata": {},
   "outputs": [],
   "source": []
  }
 ],
 "metadata": {
  "kernelspec": {
   "display_name": "test",
   "language": "python",
   "name": "test"
  },
  "language_info": {
   "codemirror_mode": {
    "name": "ipython",
    "version": 3
   },
   "file_extension": ".py",
   "mimetype": "text/x-python",
   "name": "python",
   "nbconvert_exporter": "python",
   "pygments_lexer": "ipython3",
   "version": "3.8.0"
  }
 },
 "nbformat": 4,
 "nbformat_minor": 4
}
